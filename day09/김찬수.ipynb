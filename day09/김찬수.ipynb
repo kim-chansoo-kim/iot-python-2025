{
 "cells": [
  {
   "cell_type": "markdown",
   "metadata": {},
   "source": [
    "## 코딩 테스트"
   ]
  },
  {
   "cell_type": "markdown",
   "metadata": {},
   "source": [
    "#### 1. 반지름 값을 입력받아 원의 넓이를 구하여 출력하는 프로그램을 구현하세요. π는 3.141592 입니다. 내부 모듈을 사용하여도 됩니다. "
   ]
  },
  {
   "cell_type": "code",
   "execution_count": 57,
   "metadata": {},
   "outputs": [
    {
     "name": "stdout",
     "output_type": "stream",
     "text": [
      "반지름    :  84 \n",
      "원의 넓이 :  22167.073152\n"
     ]
    }
   ],
   "source": [
    "import math\n",
    "pi = 3.141592\n",
    "# x는 반지름 값입니다.\n",
    "x = int(input('반지름을 입력하세요: '))\n",
    "print('반지름    : ', x, '\\n원의 넓이 : ', pi * x ** 2 ) # 두번 곱하는걸 제곱으로 표현해봤습니다, 제가 배울 때는 공식이 π x r의 제곱 이니까요"
   ]
  },
  {
   "cell_type": "markdown",
   "metadata": {},
   "source": [
    "#### 2. 영문이름을 입력하면 웹사이트 주소가 리턴되는 함수, get_url() 를 구현하세요."
   ]
  },
  {
   "cell_type": "code",
   "execution_count": null,
   "metadata": {},
   "outputs": [],
   "source": [
    "def get_url(name):\n",
    "    Name = name.lower()# 혹시몰라서 소문자로 바꿔드려요...url은 소문자로 써야하니까요.\n",
    "    return f'https://www.{Name}.com'\n",
    "\n",
    "name = input('웹사이트 주소를 입력하세요: ')\n",
    "print(get_url(name))"
   ]
  },
  {
   "cell_type": "markdown",
   "metadata": {},
   "source": [
    "#### 3. 구구단을 수행할 단번호를 입력하면 그 단의 9까지의 결과를 나열하는 프로그램을 입력하세요."
   ]
  },
  {
   "cell_type": "code",
   "execution_count": null,
   "metadata": {},
   "outputs": [
    {
     "name": "stdout",
     "output_type": "stream",
     "text": [
      "1단 시작\n",
      "1 x 1 = 1   \n",
      "1 x 2 = 2   \n",
      "1 x 3 = 3   \n",
      "1 x 4 = 4   \n",
      "1 x 5 = 5   \n",
      "1 x 6 = 6   \n",
      "1 x 7 = 7   \n",
      "1 x 8 = 8   \n",
      "1 x 9 = 9   \n",
      "구구단 종료\n"
     ]
    }
   ],
   "source": [
    "gugu = int(input('단번호를 입력하세요 : '))\n",
    "print(f'{gugu}단 시작')\n",
    "for x in range(1, 10):\n",
    "    print(gugu, 'x', x, '=', f'{gugu * x}', end ='   ')\n",
    "    print() # 깔끔하게 보기위해 구구단을 아래로 보여주려 사용했습니다.\n",
    "print('구구단 종료')"
   ]
  },
  {
   "cell_type": "markdown",
   "metadata": {},
   "source": [
    "#### 4. 입력한 수를 거꾸로 출력하는 프로그램을 구현하세요."
   ]
  },
  {
   "cell_type": "code",
   "execution_count": null,
   "metadata": {},
   "outputs": [
    {
     "name": "stdout",
     "output_type": "stream",
     "text": [
      "거꾸로 출력: 543643261\n"
     ]
    }
   ],
   "source": [
    "list = input('수를 입력하세요 : ')\n",
    "# 리스트를 거꾸로 하기 위해 list[::-1]사용했습니다.\n",
    "print('거꾸로 출력:', list[::-1])\n",
    "# reverse는 사용할 줄 몰라서 찾아보고 위에 처럼 작성했습니다."
   ]
  },
  {
   "cell_type": "markdown",
   "metadata": {},
   "source": [
    "#### 5. SmartPhone 이라는 클래스를 만들고, 객체를 생성해서 phoneOwner, phoneNumber, company 등의 멤버변수(속성)을 가지도록 만드세요."
   ]
  },
  {
   "cell_type": "code",
   "execution_count": null,
   "metadata": {},
   "outputs": [
    {
     "name": "stdout",
     "output_type": "stream",
     "text": [
      "\n",
      "스마트폰 정보☎\n",
      "제 이름은 김찬수이고, 전화번호는 124입니다. 저는 애플 제품을 사용해요.\n"
     ]
    }
   ],
   "source": [
    "class SmartPhone:\n",
    "    def __init__(self, phoneOwner = None, phoneNumber = None, company = None):\n",
    "        self.phoneOwner = phoneOwner\n",
    "        self.phoneNumber = phoneNumber\n",
    "        self.company = company\n",
    "    def __str__(self):\n",
    "        return f'제 이름은 {self.phoneOwner}이고, 전화번호는 {self.phoneNumber}입니다. 저는 {self.company} 제품을 사용해요.'\n",
    "   \n",
    "phoneOwner = input(\"스마트폰 소유자 이름을 입력하세요: \")\n",
    "phoneNumber = input(\"전화번호를 입력하세요: \")\n",
    "company = input(\"제조사를 입력하세요: \")\n",
    "phone = SmartPhone(phoneOwner, phoneNumber, company)\n",
    "print(\"\\n스마트폰 정보☎\")\n",
    "print(phone)"
   ]
  }
 ],
 "metadata": {
  "kernelspec": {
   "display_name": "Python 3",
   "language": "python",
   "name": "python3"
  },
  "language_info": {
   "codemirror_mode": {
    "name": "ipython",
    "version": 3
   },
   "file_extension": ".py",
   "mimetype": "text/x-python",
   "name": "python",
   "nbconvert_exporter": "python",
   "pygments_lexer": "ipython3",
   "version": "3.11.9"
  }
 },
 "nbformat": 4,
 "nbformat_minor": 2
}
